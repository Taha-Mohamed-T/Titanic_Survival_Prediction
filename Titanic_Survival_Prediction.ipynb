{
 "cells": [
  {
   "cell_type": "code",
   "execution_count": null,
   "id": "4bae75ce",
   "metadata": {},
   "outputs": [],
   "source": [
    "import pandas as pd\n",
    "import seaborn as sns\n",
    "import matplotlib.pyplot as plt\n",
    "from sklearn.model_selection import train_test_split\n",
    "from sklearn.linear_model import LogisticRegression\n",
    "from sklearn.metrics import accuracy_score\n",
    "\n",
    "# Load dataset\n",
    "url = 'https://raw.githubusercontent.com/datasciencedojo/datasets/master/titanic.csv'\n",
    "data = pd.read_csv(url)\n",
    "data.head()"
   ]
  },
  {
   "cell_type": "code",
   "execution_count": null,
   "id": "36909ceb",
   "metadata": {},
   "outputs": [],
   "source": [
    "# Preprocessing\n",
    "X = data[['Pclass','Sex','Age','SibSp','Parch','Fare']]\n",
    "X['Sex'] = X['Sex'].map({'male':0,'female':1})\n",
    "X = X.fillna(X.mean())\n",
    "y = data['Survived']\n",
    "\n",
    "X_train, X_test, y_train, y_test = train_test_split(X,y,test_size=0.2,random_state=42)\n",
    "\n",
    "model = LogisticRegression(max_iter=200)\n",
    "model.fit(X_train,y_train)\n",
    "preds = model.predict(X_test)\n",
    "\n",
    "print('Accuracy:', accuracy_score(y_test,preds))"
   ]
  }
 ],
 "metadata": {},
 "nbformat": 4,
 "nbformat_minor": 5
}
